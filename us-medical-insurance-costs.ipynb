{
 "cells": [
  {
   "cell_type": "markdown",
   "metadata": {},
   "source": [
    "# U.S. Medical Insurance Costs"
   ]
  },
  {
   "cell_type": "code",
   "execution_count": 1,
   "metadata": {},
   "outputs": [],
   "source": [
    "import csv"
   ]
  },
  {
   "cell_type": "code",
   "execution_count": 2,
   "metadata": {},
   "outputs": [
    {
     "name": "stdout",
     "output_type": "stream",
     "text": [
      "{'age': 19, 'sex': 'female', 'bmi': 27.9, 'children': 0, 'smoker': 'yes', 'region': 'southwest', 'charges': 16884.924}\n"
     ]
    }
   ],
   "source": [
    "insurance_data = {}\n",
    "\n",
    "#Open File and Create Dictionary \n",
    "with open('insurance.csv', newline='') as csvfile:\n",
    "    reader = csv.DictReader(csvfile)\n",
    "    for index, row in enumerate(reader, start=1): #Start = 1 to match row numbers\n",
    "        insurance_data[index] = {\n",
    "            \"age\": int(row[\"age\"]),\n",
    "            \"sex\": row[\"sex\"],\n",
    "            \"bmi\": float(row[\"bmi\"]),\n",
    "            \"children\": int(row[\"children\"]),\n",
    "            \"smoker\": row[\"smoker\"],\n",
    "            \"region\": row[\"region\"],\n",
    "            \"charges\": float(row[\"charges\"])\n",
    "        }\n",
    "print(insurance_data[1])"
   ]
  },
  {
   "cell_type": "code",
   "execution_count": 3,
   "metadata": {},
   "outputs": [],
   "source": [
    "#Male vs Female\n",
    "\n",
    "def male_vs_female(dataset):\n",
    "    total_male_cost = 0.0\n",
    "    total_male_count = 0\n",
    "    total_female_cost = 0.0\n",
    "    total_female_count = 0\n",
    "    for data in dataset.values():\n",
    "        if data[\"sex\"] == \"male\":\n",
    "            total_male_cost += data[\"charges\"]\n",
    "            total_male_count += 1\n",
    "        else:\n",
    "            total_female_cost += data[\"charges\"]\n",
    "            total_female_count += 1\n",
    "    avg_male_cost = total_male_cost / total_male_count\n",
    "    avg_female_cost = total_female_cost / total_female_count\n",
    "\n",
    "    return \"The average male cost is: \" + str(round(avg_male_cost, 2)) + \". The average female cost is: \" + str(round(avg_female_cost,2)) + \".\"\n"
   ]
  },
  {
   "cell_type": "code",
   "execution_count": 4,
   "metadata": {},
   "outputs": [
    {
     "name": "stdout",
     "output_type": "stream",
     "text": [
      "The average male cost is: 13956.75. The average female cost is: 12569.58.\n"
     ]
    }
   ],
   "source": [
    "print(male_vs_female(insurance_data))"
   ]
  },
  {
   "cell_type": "code",
   "execution_count": 5,
   "metadata": {},
   "outputs": [],
   "source": [
    "def smoker_vs_nonsmoker(dataset):\n",
    "    total_smoker_cost = 0.0\n",
    "    total_smoker_count = 0\n",
    "    total_nonsmoker_cost = 0.0\n",
    "    total_nonsmoker_count = 0\n",
    "    for data in dataset.values():\n",
    "        if data[\"smoker\"] == \"yes\":\n",
    "            total_smoker_cost += data[\"charges\"]\n",
    "            total_smoker_count += 1\n",
    "        else:\n",
    "            total_nonsmoker_cost += data[\"charges\"]\n",
    "            total_nonsmoker_count += 1\n",
    "    avg_smoker_cost = total_smoker_cost / total_smoker_count\n",
    "    avg_nonsmoker_cost = total_nonsmoker_cost / total_nonsmoker_count\n",
    "\n",
    "    return \"The average smoker cost is: \" + str(round(avg_smoker_cost, 2)) + \". The average non-smoker cost is: \" + str(round(avg_nonsmoker_cost,2)) + \".\""
   ]
  },
  {
   "cell_type": "code",
   "execution_count": 6,
   "metadata": {},
   "outputs": [
    {
     "name": "stdout",
     "output_type": "stream",
     "text": [
      "The average smoker cost is: 32050.23. The average non-smoker cost is: 8434.27.\n"
     ]
    }
   ],
   "source": [
    "print(smoker_vs_nonsmoker(insurance_data))"
   ]
  },
  {
   "cell_type": "code",
   "execution_count": 9,
   "metadata": {},
   "outputs": [],
   "source": [
    "def four_regions(dataset):\n",
    "    total_nw_cost = 0.0\n",
    "    total_nw_count = 0\n",
    "    total_ne_cost = 0.0\n",
    "    total_ne_count = 0\n",
    "    total_sw_cost = 0.0\n",
    "    total_sw_count = 0\n",
    "    total_se_cost = 0.0\n",
    "    total_se_count = 0\n",
    "\n",
    "    for data in dataset.values():\n",
    "        if data[\"region\"] == \"northwest\":\n",
    "             total_nw_cost += data[\"charges\"]\n",
    "             total_nw_count += 1\n",
    "        elif data[\"region\"] == \"northeast\":\n",
    "             total_ne_cost += data[\"charges\"]\n",
    "             total_ne_count += 1\n",
    "        elif data[\"region\"] == \"southwest\":\n",
    "             total_sw_cost += data[\"charges\"]\n",
    "             total_sw_count += 1\n",
    "        else:\n",
    "             total_se_cost += data[\"charges\"]\n",
    "             total_se_count += 1\n",
    "    avg_nw_cost = total_nw_cost / total_nw_count\n",
    "    avg_ne_cost = total_ne_cost / total_ne_count\n",
    "    avg_sw_cost = total_sw_cost / total_sw_count\n",
    "    avg_se_cost = total_se_cost / total_se_count\n",
    "\n",
    "    return \"NorthWest: \" + str(round(avg_nw_cost,2)) + \". NorthEast: \" + str(round(avg_ne_cost,2)) + \". SouthWest: \" + str(round(avg_sw_cost, 2)) + \". SouthEast: \" + str(round(avg_se_cost, 2))"
   ]
  },
  {
   "cell_type": "code",
   "execution_count": 10,
   "metadata": {},
   "outputs": [
    {
     "name": "stdout",
     "output_type": "stream",
     "text": [
      "NorthWest: 12417.58. NorthEast: 13406.38. SouthWest: 12346.94. SouthEast: 14735.41\n"
     ]
    }
   ],
   "source": [
    "print(four_regions(insurance_data))"
   ]
  },
  {
   "cell_type": "code",
   "execution_count": 11,
   "metadata": {},
   "outputs": [],
   "source": [
    "def bmi_per_region(dataset):\n",
    "    total_nw_bmi = 0.0\n",
    "    total_nw_count = 0\n",
    "    total_ne_bmi = 0.0\n",
    "    total_ne_count = 0\n",
    "    total_sw_bmi = 0.0\n",
    "    total_sw_count = 0\n",
    "    total_se_bmi = 0.0\n",
    "    total_se_count = 0\n",
    "\n",
    "    for data in dataset.values():\n",
    "        if data[\"region\"] == \"northwest\":\n",
    "             total_nw_bmi += data[\"bmi\"]\n",
    "             total_nw_count += 1\n",
    "        elif data[\"region\"] == \"northeast\":\n",
    "             total_ne_bmi += data[\"bmi\"]\n",
    "             total_ne_count += 1\n",
    "        elif data[\"region\"] == \"southwest\":\n",
    "             total_sw_bmi += data[\"bmi\"]\n",
    "             total_sw_count += 1\n",
    "        else:\n",
    "             total_se_bmi += data[\"bmi\"]\n",
    "             total_se_count += 1\n",
    "    avg_nw_bmi = total_nw_bmi / total_nw_count\n",
    "    avg_ne_bmi = total_ne_bmi / total_ne_count\n",
    "    avg_sw_bmi = total_sw_bmi / total_sw_count\n",
    "    avg_se_bmi = total_se_bmi / total_se_count\n",
    "\n",
    "    return \"NorthWest: \" + str(round(avg_nw_bmi,1)) + \". NorthEast: \" + str(round(avg_ne_bmi,1)) + \". SouthWest: \" + str(round(avg_sw_bmi, 1)) + \". SouthEast: \" + str(round(avg_se_bmi, 1))"
   ]
  },
  {
   "cell_type": "code",
   "execution_count": 12,
   "metadata": {},
   "outputs": [
    {
     "name": "stdout",
     "output_type": "stream",
     "text": [
      "NorthWest: 29.2. NorthEast: 29.2. SouthWest: 30.6. SouthEast: 33.4\n"
     ]
    }
   ],
   "source": [
    "print(bmi_per_region(insurance_data))"
   ]
  },
  {
   "cell_type": "code",
   "execution_count": null,
   "metadata": {},
   "outputs": [],
   "source": []
  }
 ],
 "metadata": {
  "kernelspec": {
   "display_name": "Python [conda env:base] *",
   "language": "python",
   "name": "conda-base-py"
  },
  "language_info": {
   "codemirror_mode": {
    "name": "ipython",
    "version": 3
   },
   "file_extension": ".py",
   "mimetype": "text/x-python",
   "name": "python",
   "nbconvert_exporter": "python",
   "pygments_lexer": "ipython3",
   "version": "3.12.7"
  }
 },
 "nbformat": 4,
 "nbformat_minor": 4
}
